{
 "cells": [
  {
   "cell_type": "code",
   "execution_count": null,
   "id": "ab44f343",
   "metadata": {},
   "outputs": [],
   "source": [
    "#!pip install seaborn==0.11.2 tqdm matplotlib==3.7.0 statannot"
   ]
  },
  {
   "cell_type": "code",
   "execution_count": null,
   "id": "3df5f8ac",
   "metadata": {},
   "outputs": [],
   "source": [
    "# run this script undere domino standard > 5.7 \n",
    "!pip install statannot openpyxl nibabel seaborn boto3==1.35.20 fsspec s3fs==2024.9.0\n",
    "!{'sudo apt-get install -y sshpass awscli'}"
   ]
  },
  {
   "cell_type": "code",
   "execution_count": 6,
   "id": "105c7b0e",
   "metadata": {},
   "outputs": [],
   "source": [
    "import numpy as np\n",
    "import pandas as pd\n",
    "import shutil, itertools , glob , os ,csv, re, itertools\n",
    "from scipy.stats import pearsonr\n",
    "from tqdm import tqdm\n",
    "import matplotlib.pyplot as plt\n",
    "import seaborn as sns # --> Restart Kernel\n",
    "import nibabel as nb\n",
    "from statannot import add_stat_annotation"
   ]
  },
  {
   "cell_type": "markdown",
   "id": "9062df6c",
   "metadata": {},
   "source": [
    "### Data Path"
   ]
  },
  {
   "cell_type": "code",
   "execution_count": 7,
   "id": "0afcc387",
   "metadata": {},
   "outputs": [],
   "source": [
    "path_data = '/domino/edv/nfs-pvc/taupet/'\n",
    "study_name = 'ADNIpet'\n",
    "output_proc = 'Proc.domino.v1'\n",
    "file_to_read = '/best/1Dstats/aparc.a2009s+aseg_rank.al.mid.PET.SUV.T807.BL.al.mid.Cerebellum.cortex.suvr.avg.stats.1D'"
   ]
  },
  {
   "cell_type": "code",
   "execution_count": 8,
   "id": "ee289142",
   "metadata": {},
   "outputs": [
    {
     "name": "stdout",
     "output_type": "stream",
     "text": [
      "['VROI.log', 'adni_tau.05022025.cmp_NScerebellar_gray.Xc0.10sub.1atl.690883c573cbc6de2d455f09ecc71385.rres-01.rds', 'Proc.test', '.Rhistory', 'Proc.p', 'ADNIpet_local_abalysis_SUVRs.csv', 'NIFTI', '.ipynb_checkpoints', 'adni_tau.05022025.cmp_NScerebellar_gray.Xc0.10sub.1atl.690883c573cbc6de2d455f09ecc71385.rres.rds', 'README', 'adni_tau.05022025.cmp_NScerebellar_gray.Xc0aa396d675474673c6f41fe4c7934f153.rres-01.rds', 'tmp', 'ADNI.normative.subjectIDs.07122022.csv', 'normative_subjects.txt', 'synthseg_QC.xlsx', 'Proc.domino.v1', 'adni_tau.05022025.cmp_NScerebellar_gray.Xc0aa396d675474673c6f41fe4c7934f153.rres.rds', 'ADNI-Diag.xlsx', 'subject_list', 'report_adni_aws.csv']\n"
     ]
    }
   ],
   "source": [
    "os.chdir('/domino/edv/nfs-pvc/taupet/ADNIpet')\n",
    "print (os.listdir('.'))"
   ]
  },
  {
   "cell_type": "markdown",
   "id": "191d3821",
   "metadata": {},
   "source": [
    "### Reading the Diagnosis and SUVR values"
   ]
  },
  {
   "cell_type": "code",
   "execution_count": 9,
   "id": "4b8b8299",
   "metadata": {},
   "outputs": [
    {
     "data": {
      "text/plain": [
       "753"
      ]
     },
     "execution_count": 9,
     "metadata": {},
     "output_type": "execute_result"
    }
   ],
   "source": [
    "os.chdir(os.path.join(path_data, study_name))\n",
    "\n",
    "#reading the diagnosis file\n",
    "diag_file_tmp = pd.read_excel('/mnt/early_scripts/ADNI-Diag_TW.xlsx')\n",
    "diag_file_tmp = diag_file_tmp.loc[diag_file_tmp['TAUPET_avisit']=='BL',:]\n",
    "diag_file = diag_file_tmp.rename(columns={'sub':'sid','BL.nsb.diag':'diag'})\\\n",
    "                [['sid','diag', 'TAUPET_avisit' , 'BL.AmyloidStatus','BL.nsb.age']]\\\n",
    "                .drop_duplicates('sid')\\\n",
    "                .reset_index(drop=True)\n",
    "\n",
    "# filter subjects with amyloid positive or negative\n",
    "diag_file = diag_file[diag_file['BL.AmyloidStatus'].isin(['pos','neg'])]\n",
    "# change the dignosis \n",
    "dict_pos_neg={'pos':'+', 'neg':'-'}\n",
    "diag_file['BL.AmyloidStatus_new']=diag_file['BL.AmyloidStatus'].map(dict_pos_neg)\n",
    "diag_file['diag_status'] = diag_file['diag'] + diag_file['BL.AmyloidStatus_new']\n",
    "\n",
    "# drop AD negative because of statistical power\n",
    "diag_file_noADneg = diag_file[~(diag_file['diag_status']=='AD-')]\n",
    "\n",
    "#diag_file = diag_file.drop(columns=['diag', 'TAUPET_avisit','BL.AmyloidStatus','BL.AmyloidStatus_new'])\n",
    "#diag_file.rename(columns={'diag_status':'diag'}, inplace=True)\n",
    "\n",
    "# find all subject ids\n",
    "subjects_list = diag_file_noADneg['sid'].tolist()\n",
    "# number of avialble subjects\n",
    "len(subjects_list)"
   ]
  },
  {
   "cell_type": "markdown",
   "id": "219a3ff4",
   "metadata": {},
   "source": [
    "### Demographic of Subjects"
   ]
  },
  {
   "cell_type": "code",
   "execution_count": 10,
   "id": "5846cafd",
   "metadata": {},
   "outputs": [
    {
     "data": {
      "text/html": [
       "<div>\n",
       "<style scoped>\n",
       "    .dataframe tbody tr th:only-of-type {\n",
       "        vertical-align: middle;\n",
       "    }\n",
       "\n",
       "    .dataframe tbody tr th {\n",
       "        vertical-align: top;\n",
       "    }\n",
       "\n",
       "    .dataframe thead th {\n",
       "        text-align: right;\n",
       "    }\n",
       "</style>\n",
       "<table border=\"1\" class=\"dataframe\">\n",
       "  <thead>\n",
       "    <tr style=\"text-align: right;\">\n",
       "      <th></th>\n",
       "      <th>sid</th>\n",
       "      <th>TAUPET_avisit</th>\n",
       "      <th>BL.AmyloidStatus</th>\n",
       "      <th>BL.nsb.age</th>\n",
       "      <th>BL.AmyloidStatus_new</th>\n",
       "      <th>diag_status</th>\n",
       "    </tr>\n",
       "    <tr>\n",
       "      <th>diag</th>\n",
       "      <th></th>\n",
       "      <th></th>\n",
       "      <th></th>\n",
       "      <th></th>\n",
       "      <th></th>\n",
       "      <th></th>\n",
       "    </tr>\n",
       "  </thead>\n",
       "  <tbody>\n",
       "    <tr>\n",
       "      <th>AD</th>\n",
       "      <td>82</td>\n",
       "      <td>82</td>\n",
       "      <td>82</td>\n",
       "      <td>82</td>\n",
       "      <td>82</td>\n",
       "      <td>82</td>\n",
       "    </tr>\n",
       "    <tr>\n",
       "      <th>CN</th>\n",
       "      <td>427</td>\n",
       "      <td>427</td>\n",
       "      <td>427</td>\n",
       "      <td>427</td>\n",
       "      <td>427</td>\n",
       "      <td>427</td>\n",
       "    </tr>\n",
       "    <tr>\n",
       "      <th>MCI</th>\n",
       "      <td>256</td>\n",
       "      <td>256</td>\n",
       "      <td>256</td>\n",
       "      <td>256</td>\n",
       "      <td>256</td>\n",
       "      <td>256</td>\n",
       "    </tr>\n",
       "  </tbody>\n",
       "</table>\n",
       "</div>"
      ],
      "text/plain": [
       "      sid  TAUPET_avisit  BL.AmyloidStatus  BL.nsb.age  BL.AmyloidStatus_new  \\\n",
       "diag                                                                           \n",
       "AD     82             82                82          82                    82   \n",
       "CN    427            427               427         427                   427   \n",
       "MCI   256            256               256         256                   256   \n",
       "\n",
       "      diag_status  \n",
       "diag               \n",
       "AD             82  \n",
       "CN            427  \n",
       "MCI           256  "
      ]
     },
     "execution_count": 10,
     "metadata": {},
     "output_type": "execute_result"
    }
   ],
   "source": [
    "diag_file.groupby('diag').count()"
   ]
  },
  {
   "cell_type": "code",
   "execution_count": 11,
   "id": "7656a563",
   "metadata": {},
   "outputs": [
    {
     "data": {
      "text/html": [
       "<div>\n",
       "<style scoped>\n",
       "    .dataframe tbody tr th:only-of-type {\n",
       "        vertical-align: middle;\n",
       "    }\n",
       "\n",
       "    .dataframe tbody tr th {\n",
       "        vertical-align: top;\n",
       "    }\n",
       "\n",
       "    .dataframe thead th {\n",
       "        text-align: right;\n",
       "    }\n",
       "</style>\n",
       "<table border=\"1\" class=\"dataframe\">\n",
       "  <thead>\n",
       "    <tr style=\"text-align: right;\">\n",
       "      <th></th>\n",
       "      <th></th>\n",
       "      <th>sid</th>\n",
       "    </tr>\n",
       "    <tr>\n",
       "      <th>diag</th>\n",
       "      <th>BL.AmyloidStatus</th>\n",
       "      <th></th>\n",
       "    </tr>\n",
       "  </thead>\n",
       "  <tbody>\n",
       "    <tr>\n",
       "      <th rowspan=\"2\" valign=\"top\">AD</th>\n",
       "      <th>neg</th>\n",
       "      <td>12</td>\n",
       "    </tr>\n",
       "    <tr>\n",
       "      <th>pos</th>\n",
       "      <td>70</td>\n",
       "    </tr>\n",
       "    <tr>\n",
       "      <th rowspan=\"2\" valign=\"top\">CN</th>\n",
       "      <th>neg</th>\n",
       "      <td>301</td>\n",
       "    </tr>\n",
       "    <tr>\n",
       "      <th>pos</th>\n",
       "      <td>126</td>\n",
       "    </tr>\n",
       "    <tr>\n",
       "      <th rowspan=\"2\" valign=\"top\">MCI</th>\n",
       "      <th>neg</th>\n",
       "      <td>137</td>\n",
       "    </tr>\n",
       "    <tr>\n",
       "      <th>pos</th>\n",
       "      <td>119</td>\n",
       "    </tr>\n",
       "  </tbody>\n",
       "</table>\n",
       "</div>"
      ],
      "text/plain": [
       "                       sid\n",
       "diag BL.AmyloidStatus     \n",
       "AD   neg                12\n",
       "     pos                70\n",
       "CN   neg               301\n",
       "     pos               126\n",
       "MCI  neg               137\n",
       "     pos               119"
      ]
     },
     "execution_count": 11,
     "metadata": {},
     "output_type": "execute_result"
    }
   ],
   "source": [
    "diag_file[['sid','diag','BL.AmyloidStatus']].groupby(['diag','BL.AmyloidStatus']).count()"
   ]
  },
  {
   "cell_type": "code",
   "execution_count": 12,
   "id": "beba020c",
   "metadata": {},
   "outputs": [
    {
     "data": {
      "text/html": [
       "<div>\n",
       "<style scoped>\n",
       "    .dataframe tbody tr th:only-of-type {\n",
       "        vertical-align: middle;\n",
       "    }\n",
       "\n",
       "    .dataframe tbody tr th {\n",
       "        vertical-align: top;\n",
       "    }\n",
       "\n",
       "    .dataframe thead th {\n",
       "        text-align: right;\n",
       "    }\n",
       "</style>\n",
       "<table border=\"1\" class=\"dataframe\">\n",
       "  <thead>\n",
       "    <tr style=\"text-align: right;\">\n",
       "      <th></th>\n",
       "      <th>BL.nsb.age</th>\n",
       "    </tr>\n",
       "    <tr>\n",
       "      <th>diag</th>\n",
       "      <th></th>\n",
       "    </tr>\n",
       "  </thead>\n",
       "  <tbody>\n",
       "    <tr>\n",
       "      <th>AD</th>\n",
       "      <td>76.0</td>\n",
       "    </tr>\n",
       "    <tr>\n",
       "      <th>CN</th>\n",
       "      <td>72.0</td>\n",
       "    </tr>\n",
       "    <tr>\n",
       "      <th>MCI</th>\n",
       "      <td>74.0</td>\n",
       "    </tr>\n",
       "  </tbody>\n",
       "</table>\n",
       "</div>"
      ],
      "text/plain": [
       "      BL.nsb.age\n",
       "diag            \n",
       "AD          76.0\n",
       "CN          72.0\n",
       "MCI         74.0"
      ]
     },
     "execution_count": 12,
     "metadata": {},
     "output_type": "execute_result"
    }
   ],
   "source": [
    "diag_file[['diag','BL.nsb.age']].groupby('diag').mean().round()"
   ]
  },
  {
   "cell_type": "code",
   "execution_count": 13,
   "id": "7635e95f",
   "metadata": {},
   "outputs": [
    {
     "data": {
      "text/html": [
       "<div>\n",
       "<style scoped>\n",
       "    .dataframe tbody tr th:only-of-type {\n",
       "        vertical-align: middle;\n",
       "    }\n",
       "\n",
       "    .dataframe tbody tr th {\n",
       "        vertical-align: top;\n",
       "    }\n",
       "\n",
       "    .dataframe thead th {\n",
       "        text-align: right;\n",
       "    }\n",
       "</style>\n",
       "<table border=\"1\" class=\"dataframe\">\n",
       "  <thead>\n",
       "    <tr style=\"text-align: right;\">\n",
       "      <th></th>\n",
       "      <th>BL.nsb.age</th>\n",
       "    </tr>\n",
       "    <tr>\n",
       "      <th>diag</th>\n",
       "      <th></th>\n",
       "    </tr>\n",
       "  </thead>\n",
       "  <tbody>\n",
       "    <tr>\n",
       "      <th>AD</th>\n",
       "      <td>8.0</td>\n",
       "    </tr>\n",
       "    <tr>\n",
       "      <th>CN</th>\n",
       "      <td>7.0</td>\n",
       "    </tr>\n",
       "    <tr>\n",
       "      <th>MCI</th>\n",
       "      <td>8.0</td>\n",
       "    </tr>\n",
       "  </tbody>\n",
       "</table>\n",
       "</div>"
      ],
      "text/plain": [
       "      BL.nsb.age\n",
       "diag            \n",
       "AD           8.0\n",
       "CN           7.0\n",
       "MCI          8.0"
      ]
     },
     "execution_count": 13,
     "metadata": {},
     "output_type": "execute_result"
    }
   ],
   "source": [
    "diag_file[['diag','BL.nsb.age']].groupby('diag').std().round()"
   ]
  },
  {
   "cell_type": "markdown",
   "id": "40387aaf",
   "metadata": {},
   "source": [
    "### Braak Areas"
   ]
  },
  {
   "cell_type": "code",
   "execution_count": 14,
   "id": "cb882bd9",
   "metadata": {},
   "outputs": [],
   "source": [
    "Braak_areas = {\n",
    "    'Braak_1':['ctx-lh-entorhinal',\n",
    "               'ctx-rh-entorhinal'],\n",
    "    \n",
    "    'Braak_2':['Right-Hippocampus',\n",
    "               'Left-Hippocampus'],\n",
    "    \n",
    "    'Braak_3':[ 'ctx-lh-parahippocampal',\n",
    "                'ctx-rh-parahippocampal',\n",
    "                'ctx-lh-fusiform',\n",
    "                'ctx-rh-fusiform',\n",
    "                'ctx-lh-lingual',\n",
    "                'ctx-rh-lingual',\n",
    "                'Left-Amygdala',\n",
    "                'Right-Amygdala'],\n",
    "    \n",
    "    'Braak_4':[ 'ctx-lh-middletemporal',\n",
    "                'ctx-rh-middletemporal',          \n",
    "                'Left-Thalamus',  #'Left-Thalamus-Proper' does not exit\n",
    "                'Right-Thalamus', #'Right-Thalamus-Proper' does not exit\n",
    "                'ctx-lh-caudalanteriorcingulate',\n",
    "                'ctx-rh-caudalanteriorcingulate',\n",
    "                'ctx-lh-rostralanteriorcingulate',\n",
    "                'ctx-rh-rostralanteriorcingulate',\n",
    "                'ctx-lh-posteriorcingulate',\n",
    "                'ctx-rh-posteriorcingulate',   \n",
    "                'ctx-lh-isthmuscingulate',\n",
    "                'ctx-rh-isthmuscingulate',    \n",
    "                'ctx-lh-insula',\n",
    "                'ctx-rh-insula',                \n",
    "                'ctx-lh-inferiortemporal',\n",
    "                'ctx-rh-inferiortemporal',      \n",
    "                'ctx-lh-temporalpole',\n",
    "                'ctx-rh-temporalpole'],\n",
    "    \n",
    "    'Braak_5':['ctx-lh-superiorfrontal',\n",
    "                'ctx-rh-superiorfrontal',\n",
    "                'ctx-lh-lateralorbitofrontal',\n",
    "                'ctx-rh-lateralorbitofrontal',\n",
    "                'ctx-lh-medialorbitofrontal',\n",
    "                'ctx-rh-medialorbitofrontal',\n",
    "                'ctx-lh-frontalpole',\n",
    "                'ctx-rh-frontalpole',         \n",
    "                'ctx-lh-caudalmiddlefrontal',\n",
    "                'ctx-rh-caudalmiddlefrontal',\n",
    "                'ctx-lh-rostralmiddlefrontal',\n",
    "                'ctx-rh-rostralmiddlefrontal',\n",
    "                'ctx-lh-parsopercularis',\n",
    "                'ctx-rh-parsopercularis',     \n",
    "                'ctx-lh-parsorbitalis',\n",
    "                'ctx-rh-parsorbitalis',       \n",
    "                'ctx-lh-parstriangularis',\n",
    "                'ctx-rh-parstriangularis',\n",
    "                'Left-Caudate',\n",
    "                'Right-Caudate',              \n",
    "                'Left-Putamen',\n",
    "                'Right-Putamen',              \n",
    "                'ctx-lh-lateraloccipital',\n",
    "                'ctx-rh-lateraloccipital',    \n",
    "                'ctx-lh-supramarginal',\n",
    "                'ctx-rh-supramarginal',    \n",
    "                'ctx-lh-inferiorparietal',\n",
    "                'ctx-rh-inferiorparietal',    \n",
    "                'ctx-lh-superiortemporal',\n",
    "                'ctx-rh-superiortemporal',\n",
    "                'Left-Pallidum',\n",
    "                'Right-Pallidum',             \n",
    "                'ctx-lh-superiorparietal',\n",
    "                'ctx-rh-superiorparietal',    \n",
    "                'ctx-lh-precuneus',\n",
    "                'ctx-rh-precuneus',           \n",
    "                'ctx-lh-bankssts',\n",
    "                'ctx-rh-bankssts',            \n",
    "                'Left-Accumbens-area',\n",
    "                'Right-Accumbens-area',       \n",
    "                'ctx-lh-transversetemporal',\n",
    "                'ctx-rh-transversetemporal'],\n",
    "    \n",
    "    'Braak_6':['ctx-lh-pericalcarine',\n",
    "                'ctx-rh-pericalcarine',\n",
    "                'ctx-lh-postcentral',\n",
    "                'ctx-rh-postcentral',\n",
    "                'ctx-lh-cuneus',\n",
    "                'ctx-rh-cuneus',      \n",
    "                'ctx-lh-precentral',\n",
    "                'ctx-rh-precentral',\n",
    "                'ctx-lh-paracentral',  \n",
    "                'ctx-rh-paracentral']}\n",
    "\n",
    "\n",
    "Braak_areas_list = list(itertools.chain.from_iterable(list(Braak_areas.values())))"
   ]
  },
  {
   "cell_type": "markdown",
   "id": "5bacea78",
   "metadata": {},
   "source": [
    "### Convert SUVR_1D file to Braak"
   ]
  },
  {
   "cell_type": "code",
   "execution_count": 15,
   "id": "0baa146c",
   "metadata": {},
   "outputs": [],
   "source": [
    " def suvr_1d_to_braak(proc_path, sid, file_to_read):\n",
    "\n",
    "    # proc_path = '/domino/datasets/local/Tau_PET_spread_endpoint/ADNIpet.Proc.domino.v1/'\n",
    "    # file_to_read = '/best/1Dstats/aparc+aseg_rank.al.mid.PET.SUV.T807.BL.al.mid.Cerebellum.cortex.suvr.avg.stats.1D'\n",
    "    # sid = '002_S_0413'\n",
    "    \n",
    "    # creating the proc path\n",
    "    suvr_1d_file = proc_path + '/' + sid + '/' + file_to_read\n",
    "\n",
    "    braak_areas_suvr={'sid': sid}\n",
    "    if os.path.exists(suvr_1d_file):\n",
    "        suvr_data = pd.read_csv(suvr_1d_file, delimiter='\\t')\n",
    "\n",
    "        # selecting the mean value for each regions    \n",
    "        suvr_data_nzmean = suvr_data[suvr_data.columns[suvr_data.columns.str.contains('NZMean')]]\n",
    "        suvr_data_nzcount = suvr_data[suvr_data.columns[suvr_data.columns.str.contains('NZcount')]]\n",
    "\n",
    "        # remove NZmean from column name\n",
    "        suvr_data_nzmean.columns = suvr_data_nzmean.columns.str[7:]\n",
    "        suvr_data_nzcount.columns = suvr_data_nzcount.columns.str[8:]\n",
    "\n",
    "        # check all braak reagions exist in the suvr file\n",
    "        if sum(suvr_data_nzmean.columns.isin(Braak_areas_list))==len(Braak_areas_list):\n",
    "\n",
    "            # calculating the braak avearge from aseg-aparc regions weighted mean by using voxel counts\n",
    "            for n in np.arange(1,7):\n",
    "                \n",
    "                # calculating total voxels\n",
    "                total_voxels = suvr_data_nzcount[Braak_areas['Braak_' + str(n)]].sum(axis=1).values[0]\n",
    "\n",
    "                # merging voxel count and suvr values\n",
    "                area_suvr_voxel_count = pd.concat([suvr_data_nzmean[Braak_areas['Braak_' + str(n)]] ,\n",
    "                                                   suvr_data_nzcount[Braak_areas['Braak_' + str(n)]]]).reset_index(drop=True)\n",
    "\n",
    "                # calcualting weighted mean\n",
    "                weighted_mean = (area_suvr_voxel_count.loc[0,:] * area_suvr_voxel_count.loc[1,:]).sum()/total_voxels\n",
    "                braak_areas_suvr['Braak_' + str(n) + '_wmean'] = weighted_mean\n",
    "        else:\n",
    "            print('the braak regions are not complete')\n",
    "    #creating dataframe\n",
    "    braak_areas_suvr = pd.DataFrame(pd.Series(braak_areas_suvr)).T\n",
    "        \n",
    "    return braak_areas_suvr"
   ]
  },
  {
   "cell_type": "markdown",
   "id": "7441c0ea",
   "metadata": {},
   "source": [
    "### Data from Domino Analysis"
   ]
  },
  {
   "cell_type": "code",
   "execution_count": 16,
   "id": "e7b70cbb",
   "metadata": {},
   "outputs": [
    {
     "name": "stderr",
     "output_type": "stream",
     "text": [
      "100%|██████████| 753/753 [00:25<00:00, 29.74it/s]\n"
     ]
    }
   ],
   "source": [
    "tmp =[]\n",
    "proc_path = path_data + study_name + '/' + output_proc + '/'\n",
    "suvr_1d = '/best/1Dstats/aparc+aseg_rank.al.mid.PET.SUV.T807.BL.al.mid.Cerebellum.cortex.suvr.avg.stats.1D'\n",
    "for sid in tqdm(subjects_list):\n",
    "    # reading individual braak data\n",
    "    subj_data= suvr_1d_to_braak(proc_path = proc_path,\n",
    "                                sid = sid ,\n",
    "                                file_to_read = suvr_1d)\n",
    "    # add to temporal list\n",
    "    tmp.append(subj_data)\n",
    "\n",
    "# merge all data\n",
    "roi_suvr_domino = pd.concat(tmp).reset_index(drop=True).dropna()"
   ]
  },
  {
   "cell_type": "code",
   "execution_count": 17,
   "id": "505d1087",
   "metadata": {},
   "outputs": [
    {
     "data": {
      "text/html": [
       "<div>\n",
       "<style scoped>\n",
       "    .dataframe tbody tr th:only-of-type {\n",
       "        vertical-align: middle;\n",
       "    }\n",
       "\n",
       "    .dataframe tbody tr th {\n",
       "        vertical-align: top;\n",
       "    }\n",
       "\n",
       "    .dataframe thead th {\n",
       "        text-align: right;\n",
       "    }\n",
       "</style>\n",
       "<table border=\"1\" class=\"dataframe\">\n",
       "  <thead>\n",
       "    <tr style=\"text-align: right;\">\n",
       "      <th></th>\n",
       "      <th>sid</th>\n",
       "      <th>Braak_1_wmean</th>\n",
       "      <th>Braak_2_wmean</th>\n",
       "      <th>Braak_3_wmean</th>\n",
       "      <th>Braak_4_wmean</th>\n",
       "      <th>Braak_5_wmean</th>\n",
       "      <th>Braak_6_wmean</th>\n",
       "    </tr>\n",
       "  </thead>\n",
       "  <tbody>\n",
       "    <tr>\n",
       "      <th>0</th>\n",
       "      <td>002_S_4213</td>\n",
       "      <td>0.994925</td>\n",
       "      <td>0.955459</td>\n",
       "      <td>0.99844</td>\n",
       "      <td>0.994751</td>\n",
       "      <td>0.987095</td>\n",
       "      <td>0.908219</td>\n",
       "    </tr>\n",
       "    <tr>\n",
       "      <th>1</th>\n",
       "      <td>002_S_4229</td>\n",
       "      <td>1.071647</td>\n",
       "      <td>1.018751</td>\n",
       "      <td>1.052275</td>\n",
       "      <td>1.07512</td>\n",
       "      <td>1.097696</td>\n",
       "      <td>1.063166</td>\n",
       "    </tr>\n",
       "    <tr>\n",
       "      <th>2</th>\n",
       "      <td>002_S_4262</td>\n",
       "      <td>1.883834</td>\n",
       "      <td>1.535428</td>\n",
       "      <td>1.735146</td>\n",
       "      <td>1.796119</td>\n",
       "      <td>1.702785</td>\n",
       "      <td>1.319834</td>\n",
       "    </tr>\n",
       "    <tr>\n",
       "      <th>3</th>\n",
       "      <td>002_S_4521</td>\n",
       "      <td>2.001569</td>\n",
       "      <td>1.580687</td>\n",
       "      <td>1.787095</td>\n",
       "      <td>2.086781</td>\n",
       "      <td>1.964152</td>\n",
       "      <td>1.274737</td>\n",
       "    </tr>\n",
       "    <tr>\n",
       "      <th>4</th>\n",
       "      <td>002_S_4654</td>\n",
       "      <td>1.430322</td>\n",
       "      <td>1.609915</td>\n",
       "      <td>1.303099</td>\n",
       "      <td>1.301516</td>\n",
       "      <td>1.248476</td>\n",
       "      <td>1.120163</td>\n",
       "    </tr>\n",
       "    <tr>\n",
       "      <th>...</th>\n",
       "      <td>...</td>\n",
       "      <td>...</td>\n",
       "      <td>...</td>\n",
       "      <td>...</td>\n",
       "      <td>...</td>\n",
       "      <td>...</td>\n",
       "      <td>...</td>\n",
       "    </tr>\n",
       "    <tr>\n",
       "      <th>748</th>\n",
       "      <td>941_S_6580</td>\n",
       "      <td>1.257047</td>\n",
       "      <td>1.236285</td>\n",
       "      <td>1.129778</td>\n",
       "      <td>1.158714</td>\n",
       "      <td>1.129613</td>\n",
       "      <td>1.074882</td>\n",
       "    </tr>\n",
       "    <tr>\n",
       "      <th>749</th>\n",
       "      <td>941_S_6581</td>\n",
       "      <td>1.171415</td>\n",
       "      <td>1.281521</td>\n",
       "      <td>1.068997</td>\n",
       "      <td>1.122285</td>\n",
       "      <td>1.079641</td>\n",
       "      <td>0.952314</td>\n",
       "    </tr>\n",
       "    <tr>\n",
       "      <th>750</th>\n",
       "      <td>941_S_6803</td>\n",
       "      <td>2.005544</td>\n",
       "      <td>1.34211</td>\n",
       "      <td>2.231702</td>\n",
       "      <td>1.933733</td>\n",
       "      <td>1.697789</td>\n",
       "      <td>1.389159</td>\n",
       "    </tr>\n",
       "    <tr>\n",
       "      <th>751</th>\n",
       "      <td>941_S_6854</td>\n",
       "      <td>1.780874</td>\n",
       "      <td>1.70753</td>\n",
       "      <td>1.536376</td>\n",
       "      <td>1.503655</td>\n",
       "      <td>1.306386</td>\n",
       "      <td>1.111459</td>\n",
       "    </tr>\n",
       "    <tr>\n",
       "      <th>752</th>\n",
       "      <td>941_S_6962</td>\n",
       "      <td>1.888975</td>\n",
       "      <td>1.751636</td>\n",
       "      <td>1.338903</td>\n",
       "      <td>1.39241</td>\n",
       "      <td>1.290484</td>\n",
       "      <td>1.092405</td>\n",
       "    </tr>\n",
       "  </tbody>\n",
       "</table>\n",
       "<p>753 rows × 7 columns</p>\n",
       "</div>"
      ],
      "text/plain": [
       "            sid Braak_1_wmean Braak_2_wmean Braak_3_wmean Braak_4_wmean  \\\n",
       "0    002_S_4213      0.994925      0.955459       0.99844      0.994751   \n",
       "1    002_S_4229      1.071647      1.018751      1.052275       1.07512   \n",
       "2    002_S_4262      1.883834      1.535428      1.735146      1.796119   \n",
       "3    002_S_4521      2.001569      1.580687      1.787095      2.086781   \n",
       "4    002_S_4654      1.430322      1.609915      1.303099      1.301516   \n",
       "..          ...           ...           ...           ...           ...   \n",
       "748  941_S_6580      1.257047      1.236285      1.129778      1.158714   \n",
       "749  941_S_6581      1.171415      1.281521      1.068997      1.122285   \n",
       "750  941_S_6803      2.005544       1.34211      2.231702      1.933733   \n",
       "751  941_S_6854      1.780874       1.70753      1.536376      1.503655   \n",
       "752  941_S_6962      1.888975      1.751636      1.338903       1.39241   \n",
       "\n",
       "    Braak_5_wmean Braak_6_wmean  \n",
       "0        0.987095      0.908219  \n",
       "1        1.097696      1.063166  \n",
       "2        1.702785      1.319834  \n",
       "3        1.964152      1.274737  \n",
       "4        1.248476      1.120163  \n",
       "..            ...           ...  \n",
       "748      1.129613      1.074882  \n",
       "749      1.079641      0.952314  \n",
       "750      1.697789      1.389159  \n",
       "751      1.306386      1.111459  \n",
       "752      1.290484      1.092405  \n",
       "\n",
       "[753 rows x 7 columns]"
      ]
     },
     "execution_count": 17,
     "metadata": {},
     "output_type": "execute_result"
    }
   ],
   "source": [
    "roi_suvr_domino"
   ]
  },
  {
   "cell_type": "code",
   "execution_count": 18,
   "id": "457a9bff",
   "metadata": {},
   "outputs": [],
   "source": [
    "group_roi_suvr = roi_suvr_domino"
   ]
  },
  {
   "cell_type": "markdown",
   "id": "5dcb8e25",
   "metadata": {},
   "source": [
    "### Plotting"
   ]
  },
  {
   "cell_type": "code",
   "execution_count": 19,
   "id": "3171ae29",
   "metadata": {},
   "outputs": [
    {
     "data": {
      "image/png": "[encoded data removed]",
      "text/plain": [
       "<Figure size 200x100 with 1 Axes>"
      ]
     },
     "metadata": {},
     "output_type": "display_data"
    }
   ],
   "source": [
    "custom_palette1 = sns.color_palette('Paired',8)[0:2][:]\n",
    "sns.palplot(custom_palette1)"
   ]
  },
  {
   "cell_type": "code",
   "execution_count": 20,
   "id": "c8e74d90",
   "metadata": {},
   "outputs": [
    {
     "data": {
      "image/png": "[encoded data removed]",
      "text/plain": [
       "<Figure size 600x100 with 1 Axes>"
      ]
     },
     "metadata": {},
     "output_type": "display_data"
    }
   ],
   "source": [
    "custom_palette2 = sns.color_palette('Paired',8)[0:4][:] + sns.color_palette('Paired',8)[6:8][:]\n",
    "sns.palplot(custom_palette2)"
   ]
  },
  {
   "cell_type": "code",
   "execution_count": 21,
   "id": "d96745c6",
   "metadata": {},
   "outputs": [
    {
     "data": {
      "image/png": "[encoded data removed]",
      "text/plain": [
       "<Figure size 200x100 with 1 Axes>"
      ]
     },
     "metadata": {},
     "output_type": "display_data"
    }
   ],
   "source": [
    "custom_palette3 = sns.color_palette(palette='Greys')[1], sns.color_palette(palette='Greys')[1]\n",
    "sns.palplot(custom_palette3)"
   ]
  },
  {
   "cell_type": "markdown",
   "id": "d0181c1b",
   "metadata": {},
   "source": [
    "### Ploting"
   ]
  },
  {
   "cell_type": "code",
   "execution_count": 24,
   "id": "e079ee50",
   "metadata": {},
   "outputs": [
    {
     "name": "stderr",
     "output_type": "stream",
     "text": [
      "/home/ubuntu/.local/lib/python3.10/site-packages/statannot/statannot.py:555: SyntaxWarning: \"is\" with a literal. Did you mean \"==\"?\n",
      "  elif text_format is 'star':\n",
      "/home/ubuntu/.local/lib/python3.10/site-packages/statannot/statannot.py:557: SyntaxWarning: \"is\" with a literal. Did you mean \"==\"?\n",
      "  elif text_format is 'simple':\n",
      "/home/ubuntu/.local/lib/python3.10/site-packages/statannot/statannot.py:555: SyntaxWarning: \"is\" with a literal. Did you mean \"==\"?\n",
      "  elif text_format is 'star':\n",
      "/home/ubuntu/.local/lib/python3.10/site-packages/statannot/statannot.py:557: SyntaxWarning: \"is\" with a literal. Did you mean \"==\"?\n",
      "  elif text_format is 'simple':\n"
     ]
    },
    {
     "ename": "AttributeError",
     "evalue": "module 'seaborn.categorical' has no attribute '_BoxPlotter'",
     "output_type": "error",
     "traceback": [
      "\u001b[0;31m---------------------------------------------------------------------------\u001b[0m",
      "\u001b[0;31mAttributeError\u001b[0m                            Traceback (most recent call last)",
      "Cell \u001b[0;32mIn[24], line 84\u001b[0m\n\u001b[1;32m     67\u001b[0m         axs[n1axs,n2axs]\u001b[38;5;241m.\u001b[39mset_ylim([\u001b[38;5;241m0.5\u001b[39m,\u001b[38;5;241m4.6\u001b[39m])\n\u001b[1;32m     69\u001b[0m         \u001b[38;5;66;03m# ------------------------------- Star Threshold  -------------------------------             \u001b[39;00m\n\u001b[1;32m     70\u001b[0m         \u001b[38;5;66;03m## ns: 5.00e-02 < p <= 1.00e+00\u001b[39;00m\n\u001b[1;32m     71\u001b[0m         \u001b[38;5;66;03m## *: 1.00e-02 < p <= 5.00e-02\u001b[39;00m\n\u001b[0;32m   (...)\u001b[0m\n\u001b[1;32m     82\u001b[0m         \n\u001b[1;32m     83\u001b[0m         \u001b[38;5;66;03m# plotting the t-test comparison pairwise\u001b[39;00m\n\u001b[0;32m---> 84\u001b[0m         \u001b[43madd_stat_annotation\u001b[49m\u001b[43m(\u001b[49m\u001b[43maxs\u001b[49m\u001b[43m[\u001b[49m\u001b[43mn1axs\u001b[49m\u001b[43m,\u001b[49m\u001b[43mn2axs\u001b[49m\u001b[43m]\u001b[49m\u001b[43m,\u001b[49m\n\u001b[1;32m     85\u001b[0m \u001b[43m                \u001b[49m\u001b[43mdata\u001b[49m\u001b[38;5;241;43m=\u001b[39;49m\u001b[43mrenamed_roi_suvr\u001b[49m\u001b[43m,\u001b[49m\n\u001b[1;32m     86\u001b[0m \u001b[43m                \u001b[49m\u001b[43mx\u001b[49m\u001b[38;5;241;43m=\u001b[39;49m\u001b[38;5;124;43m'\u001b[39;49m\u001b[38;5;124;43mdiag\u001b[39;49m\u001b[38;5;124;43m'\u001b[39;49m\u001b[43m,\u001b[49m\n\u001b[1;32m     87\u001b[0m \u001b[43m                \u001b[49m\u001b[43my\u001b[49m\u001b[38;5;241;43m=\u001b[39;49m\u001b[38;5;124;43m'\u001b[39;49m\u001b[38;5;124;43mSUVR\u001b[39;49m\u001b[38;5;124;43m'\u001b[39;49m\u001b[43m,\u001b[49m\u001b[43m  \u001b[49m\n\u001b[1;32m     88\u001b[0m \u001b[43m                \u001b[49m\u001b[43mhue\u001b[49m\u001b[38;5;241;43m=\u001b[39;49m\u001b[38;5;124;43m'\u001b[39;49m\u001b[38;5;124;43mBL.AmyloidStatus\u001b[39;49m\u001b[38;5;124;43m'\u001b[39;49m\u001b[43m,\u001b[49m\u001b[43m          \u001b[49m\n\u001b[1;32m     89\u001b[0m \u001b[43m                \u001b[49m\u001b[43mbox_pairs\u001b[49m\u001b[38;5;241;43m=\u001b[39;49m\u001b[43mpairwiseMatrix\u001b[49m\u001b[43m,\u001b[49m\n\u001b[1;32m     90\u001b[0m \u001b[43m                \u001b[49m\u001b[43mtest\u001b[49m\u001b[38;5;241;43m=\u001b[39;49m\u001b[38;5;124;43m'\u001b[39;49m\u001b[38;5;124;43mt-test_ind\u001b[39;49m\u001b[38;5;124;43m'\u001b[39;49m\u001b[43m,\u001b[49m\n\u001b[1;32m     91\u001b[0m \u001b[43m                \u001b[49m\u001b[43mline_offset_to_box\u001b[49m\u001b[38;5;241;43m=\u001b[39;49m\u001b[38;5;241;43m0.03\u001b[39;49m\u001b[43m,\u001b[49m\n\u001b[1;32m     92\u001b[0m \u001b[43m                \u001b[49m\u001b[43mline_offset\u001b[49m\u001b[38;5;241;43m=\u001b[39;49m\u001b[38;5;241;43m0.01\u001b[39;49m\u001b[43m,\u001b[49m\u001b[43m \u001b[49m\n\u001b[1;32m     93\u001b[0m \u001b[43m                \u001b[49m\u001b[43mcomparisons_correction\u001b[49m\u001b[38;5;241;43m=\u001b[39;49m\u001b[38;5;124;43m'\u001b[39;49m\u001b[38;5;124;43mbonferroni\u001b[39;49m\u001b[38;5;124;43m'\u001b[39;49m\u001b[43m,\u001b[49m\n\u001b[1;32m     94\u001b[0m \u001b[38;5;66;43;03m#                 pvalue_thresholds= ThresholdStar, # star difiniation\u001b[39;49;00m\n\u001b[1;32m     95\u001b[0m \u001b[43m                \u001b[49m\u001b[43mtext_format\u001b[49m\u001b[38;5;241;43m=\u001b[39;49m\u001b[38;5;124;43m'\u001b[39;49m\u001b[38;5;124;43mstar\u001b[39;49m\u001b[38;5;124;43m'\u001b[39;49m\u001b[43m,\u001b[49m\n\u001b[1;32m     96\u001b[0m \u001b[43m                \u001b[49m\u001b[43mverbose\u001b[49m\u001b[38;5;241;43m=\u001b[39;49m\u001b[38;5;241;43m0\u001b[39;49m\u001b[43m)\u001b[49m\n\u001b[1;32m     99\u001b[0m         axs[n1axs,n2axs]\u001b[38;5;241m.\u001b[39mset(ylabel\u001b[38;5;241m=\u001b[39m\u001b[38;5;124m'\u001b[39m\u001b[38;5;124mstandardized uptake value ratio\u001b[39m\u001b[38;5;124m'\u001b[39m)\n\u001b[1;32m    100\u001b[0m         axs[n1axs,n2axs]\u001b[38;5;241m.\u001b[39mget_legend()\u001b[38;5;241m.\u001b[39mset_visible(\u001b[38;5;28;01mFalse\u001b[39;00m)\n",
      "File \u001b[0;32m~/.local/lib/python3.10/site-packages/statannot/statannot.py:433\u001b[0m, in \u001b[0;36madd_stat_annotation\u001b[0;34m(ax, plot, data, x, y, hue, units, order, hue_order, box_pairs, width, perform_stat_test, pvalues, test_short_name, test, text_format, pvalue_format_string, text_annot_custom, loc, show_test_name, pvalue_thresholds, stats_params, comparisons_correction, use_fixed_offset, line_offset_to_box, line_offset, line_height, text_offset, color, linewidth, fontsize, verbose)\u001b[0m\n\u001b[1;32m    429\u001b[0m y_offset_to_box \u001b[38;5;241m=\u001b[39m line_offset_to_box\u001b[38;5;241m*\u001b[39myrange\n\u001b[1;32m    431\u001b[0m \u001b[38;5;28;01mif\u001b[39;00m plot \u001b[38;5;241m==\u001b[39m \u001b[38;5;124m'\u001b[39m\u001b[38;5;124mboxplot\u001b[39m\u001b[38;5;124m'\u001b[39m:\n\u001b[1;32m    432\u001b[0m     \u001b[38;5;66;03m# Create the same plotter object as seaborn's boxplot\u001b[39;00m\n\u001b[0;32m--> 433\u001b[0m     box_plotter \u001b[38;5;241m=\u001b[39m \u001b[43msns\u001b[49m\u001b[38;5;241;43m.\u001b[39;49m\u001b[43mcategorical\u001b[49m\u001b[38;5;241;43m.\u001b[39;49m\u001b[43m_BoxPlotter\u001b[49m(\n\u001b[1;32m    434\u001b[0m         x, y, hue, data, order, hue_order, orient\u001b[38;5;241m=\u001b[39m\u001b[38;5;28;01mNone\u001b[39;00m, width\u001b[38;5;241m=\u001b[39mwidth, color\u001b[38;5;241m=\u001b[39m\u001b[38;5;28;01mNone\u001b[39;00m,\n\u001b[1;32m    435\u001b[0m         palette\u001b[38;5;241m=\u001b[39m\u001b[38;5;28;01mNone\u001b[39;00m, saturation\u001b[38;5;241m=\u001b[39m\u001b[38;5;241m.75\u001b[39m, dodge\u001b[38;5;241m=\u001b[39m\u001b[38;5;28;01mTrue\u001b[39;00m, fliersize\u001b[38;5;241m=\u001b[39m\u001b[38;5;241m5\u001b[39m, linewidth\u001b[38;5;241m=\u001b[39m\u001b[38;5;28;01mNone\u001b[39;00m)\n\u001b[1;32m    436\u001b[0m \u001b[38;5;28;01melif\u001b[39;00m plot \u001b[38;5;241m==\u001b[39m \u001b[38;5;124m'\u001b[39m\u001b[38;5;124mbarplot\u001b[39m\u001b[38;5;124m'\u001b[39m:\n\u001b[1;32m    437\u001b[0m     \u001b[38;5;66;03m# Create the same plotter object as seaborn's barplot\u001b[39;00m\n\u001b[1;32m    438\u001b[0m     box_plotter \u001b[38;5;241m=\u001b[39m sns\u001b[38;5;241m.\u001b[39mcategorical\u001b[38;5;241m.\u001b[39m_BarPlotter(\n\u001b[1;32m    439\u001b[0m         x, y, hue, data, order, hue_order,\n\u001b[1;32m    440\u001b[0m         estimator\u001b[38;5;241m=\u001b[39mnp\u001b[38;5;241m.\u001b[39mmean, ci\u001b[38;5;241m=\u001b[39m\u001b[38;5;241m95\u001b[39m, n_boot\u001b[38;5;241m=\u001b[39m\u001b[38;5;241m1000\u001b[39m, units\u001b[38;5;241m=\u001b[39m\u001b[38;5;28;01mNone\u001b[39;00m,\n\u001b[1;32m    441\u001b[0m         orient\u001b[38;5;241m=\u001b[39m\u001b[38;5;28;01mNone\u001b[39;00m, color\u001b[38;5;241m=\u001b[39m\u001b[38;5;28;01mNone\u001b[39;00m, palette\u001b[38;5;241m=\u001b[39m\u001b[38;5;28;01mNone\u001b[39;00m, saturation\u001b[38;5;241m=\u001b[39m\u001b[38;5;241m.75\u001b[39m,\n\u001b[1;32m    442\u001b[0m         errcolor\u001b[38;5;241m=\u001b[39m\u001b[38;5;124m\"\u001b[39m\u001b[38;5;124m.26\u001b[39m\u001b[38;5;124m\"\u001b[39m, errwidth\u001b[38;5;241m=\u001b[39m\u001b[38;5;28;01mNone\u001b[39;00m, capsize\u001b[38;5;241m=\u001b[39m\u001b[38;5;28;01mNone\u001b[39;00m, dodge\u001b[38;5;241m=\u001b[39m\u001b[38;5;28;01mTrue\u001b[39;00m)\n",
      "\u001b[0;31mAttributeError\u001b[0m: module 'seaborn.categorical' has no attribute '_BoxPlotter'"
     ]
    },
    {
     "data": {
      "image/png": "[encoded data removed]",
      "text/plain": [
       "<Figure size 1600x1000 with 6 Axes>"
      ]
     },
     "metadata": {},
     "output_type": "display_data"
    }
   ],
   "source": [
    "Braak_regions = roi_suvr_domino.columns[roi_suvr_domino.columns.str.contains('Braak')]\n",
    "\n",
    "# generating pairwise for t-test\n",
    "pairwiseMatrix = [((\"CN\", \"pos\"), (\"CN\", \"neg\")), \n",
    "                  ((\"MCI\", \"pos\"), (\"MCI\", \"neg\")),\n",
    "                  ((\"MCI\", \"pos\"), (\"CN\", \"pos\")),\n",
    "                  ((\"AD\", \"pos\"), (\"CN\", \"pos\")),\n",
    "                  ((\"AD\", \"pos\"), (\"MCI\", \"pos\"))] #list(itertools.combinations(diag_file['diag'].unique().tolist(), 2))\n",
    "\n",
    "fig, axs = plt.subplots(figsize=(16, 10), nrows=2, ncols=3)\n",
    "n1axs = 0\n",
    "n2axs = 0\n",
    "# Plot region plots for each region containing the specified substrings\n",
    "for roi_name in Braak_regions:\n",
    "\n",
    "        # Remove 'NZ_Mean_' from region_column\n",
    "        plot_title = str(roi_name).replace('wmean', '').replace('_', ' ROI ', 1).replace('_', '',1)\n",
    "        \n",
    "        # extract the SUVR\n",
    "        roi_suvr = group_roi_suvr[['sid',roi_name]]\n",
    "        \n",
    "        # adding the best cost and diagnosis\n",
    "        roi_suvr = pd.merge(roi_suvr,diag_file, on='sid')\n",
    "        \n",
    "        # Cohorts SUVR\n",
    "        renamed_roi_suvr = roi_suvr[[roi_name,'diag','BL.AmyloidStatus']]\\\n",
    "                                    .set_index('diag')\\\n",
    "                                    .reset_index()\\\n",
    "                                    .rename(columns={roi_name:'SUVR'})\n",
    "        # change SUVR to float\n",
    "        renamed_roi_suvr['SUVR'] = renamed_roi_suvr['SUVR'].astype(float)\n",
    "        \n",
    "        # Add in points to show each observation\n",
    "        sns.stripplot(data= renamed_roi_suvr, \n",
    "                      x='diag',\n",
    "                      y='SUVR', \n",
    "                      dodge=True,\n",
    "                      zorder=0,\n",
    "                      hue='BL.AmyloidStatus',\n",
    "                      palette=custom_palette3,\n",
    "                      marker=\"o\", linewidth=1, alpha=.3,\n",
    "                      ax=axs[n1axs,n2axs])\n",
    "        \n",
    "        # Plot the orbital period with horizontal boxes\n",
    "        sns.boxplot(\n",
    "            data= renamed_roi_suvr, \n",
    "            x='diag', \n",
    "            y='SUVR', \n",
    "            hue='BL.AmyloidStatus',\n",
    "            whis=[0, 100],\n",
    "            width=.8,\n",
    "            palette= custom_palette1,\n",
    "            ax=axs[n1axs,n2axs])\n",
    "        \n",
    "        # Select which box you want to change, change the appearance of that box\n",
    "        mybox = axs[n1axs,n2axs].patches[4]\n",
    "        mybox.set_facecolor(custom_palette2[2])\n",
    "        mybox = axs[n1axs,n2axs].patches[5]\n",
    "        mybox.set_facecolor(custom_palette2[3])\n",
    "        mybox = axs[n1axs,n2axs].patches[6]\n",
    "        mybox.set_facecolor(custom_palette2[5])\n",
    "        \n",
    "        # Tweak the visual presentation\n",
    "        axs[n1axs,n2axs].set(ylabel=\"SUVR\")\n",
    "        axs[n1axs,n2axs].set(xlabel=\"\")\n",
    "        axs[n1axs,n2axs].set(title=plot_title)\n",
    "        axs[n1axs,n2axs].set_ylim([0.5,4.6])\n",
    "        \n",
    "        # ------------------------------- Star Threshold  -------------------------------             \n",
    "        ## ns: 5.00e-02 < p <= 1.00e+00\n",
    "        ## *: 1.00e-02 < p <= 5.00e-02\n",
    "        ## **: 1.00e-03 < p <= 1.00e-02\n",
    "        ## ***: 1.00e-04 < p <= 1.00e-03\n",
    "        ## ****: p <= 1.00e-04   \n",
    "        # ------------------------------- Star Threshold  -------------------------------   \n",
    "#         ThresholdStar = [[1e-6, \"****\"],\n",
    "#                          [1e-5, \"***\"],\n",
    "#                          [1e-4, \"**\"],\n",
    "#                          [0.003, \"*\"], \n",
    "#                          [1, \"ns\"]]\n",
    "        \n",
    "        \"\"\"\n",
    "        # plotting the t-test comparison pairwise\n",
    "        add_stat_annotation(axs[n1axs,n2axs],\n",
    "                data=renamed_roi_suvr,\n",
    "                x='diag',\n",
    "                y='SUVR',  \n",
    "                hue='BL.AmyloidStatus',          \n",
    "                box_pairs=pairwiseMatrix,\n",
    "                test='t-test_ind',\n",
    "                line_offset_to_box=0.03,\n",
    "                line_offset=0.01, \n",
    "                comparisons_correction='bonferroni',\n",
    "#                 pvalue_thresholds= ThresholdStar, # star difiniation\n",
    "                text_format='star',\n",
    "                verbose=0)\n",
    "        \"\"\"\n",
    "        \n",
    "        axs[n1axs,n2axs].set(ylabel='standardized uptake value ratio')\n",
    "        axs[n1axs,n2axs].get_legend().set_visible(False)\n",
    "        axs[n1axs,n2axs].set_xticks(np.arange(3), ['  CN-    CN+', '  MCI-   MCI+', '       AD+']) \n",
    "        \n",
    "        if n2axs==2:\n",
    "            n1axs +=1\n",
    "            n2axs = 0\n",
    "        else:    \n",
    "            n2axs +=1\n",
    "\n",
    "fig.suptitle('Comparison of the standard uptake value ratio (SUVR)' + \\\n",
    "             ' in different cohorts:\\n generated by TauQuant pipeline ' +\\\n",
    "             'from Tau-PET images',y=0.96, fontsize=16, ha='center')        \n",
    "#fig.supxlabel('Cohort comparision using TauQuant pipeline',y=0.03, fontsize=15)\n",
    "plt.savefig('/mnt/results/SUVR_tauquant.pdf', dpi=1200)\n",
    "plt.show()\n",
    "#plt.close()\n",
    "print(renamed_roi_suvr.groupby('diag').count().rename(columns={'SUVR':'#N'}))"
   ]
  },
  {
   "cell_type": "code",
   "execution_count": null,
   "id": "18f13150",
   "metadata": {},
   "outputs": [],
   "source": []
  }
 ],
 "metadata": {
  "kernelspec": {
   "display_name": "Python 3 (ipykernel)",
   "language": "python",
   "name": "python3"
  },
  "language_info": {
   "codemirror_mode": {
    "name": "ipython",
    "version": 3
   },
   "file_extension": ".py",
   "mimetype": "text/x-python",
   "name": "python",
   "nbconvert_exporter": "python",
   "pygments_lexer": "ipython3",
   "version": "3.10.12"
  }
 },
 "nbformat": 4,
 "nbformat_minor": 5
}
